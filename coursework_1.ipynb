{
 "cells": [
  {
   "cell_type": "markdown",
   "metadata": {},
   "source": [
    "# Coursework 1 - Crypto\n",
    "In this course, we work backwards: we start from a known set of working quantitative trading\n",
    "strategies, we understand how to evaluate them, then how to construct them and intuit them. In the\n",
    "first step, we solidify our understanding of what we mean by a \"working\" quant trading strategy\". In\n",
    "this assignment, we examine the basics of evaluating quantitative trading strategies. While they might\n",
    "sound intimidating at first, in reality, the tools we have to evaluate investor performance are incredibly\n",
    "powerful relative to have simple they are to use."
   ]
  },
  {
   "cell_type": "markdown",
   "metadata": {},
   "source": []
  }
 ],
 "metadata": {
  "kernelspec": {
   "display_name": "Python 3",
   "language": "python",
   "name": "python3"
  },
  "language_info": {
   "name": "python",
   "version": "3.10.14"
  }
 },
 "nbformat": 4,
 "nbformat_minor": 2
}
